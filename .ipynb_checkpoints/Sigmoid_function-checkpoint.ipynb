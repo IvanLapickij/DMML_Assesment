{
 "cells": [
  {
   "cell_type": "code",
   "execution_count": 6,
   "id": "56f3ce9a-f241-4c06-80b7-f53199f154d8",
   "metadata": {},
   "outputs": [],
   "source": [
    "import math\n",
    "import matplotlib.pyplot as plt\n",
    "x = []\n",
    "y=[]\n",
    "for z in range(-5,5):\n",
    "    x.append(z)\n",
    "    y.append(1/(1+math.exp(-z)))"
   ]
  }
 ],
 "metadata": {
  "kernelspec": {
   "display_name": "Python 3 (ipykernel)",
   "language": "python",
   "name": "python3"
  },
  "language_info": {
   "codemirror_mode": {
    "name": "ipython",
    "version": 3
   },
   "file_extension": ".py",
   "mimetype": "text/x-python",
   "name": "python",
   "nbconvert_exporter": "python",
   "pygments_lexer": "ipython3",
   "version": "3.8.19"
  }
 },
 "nbformat": 4,
 "nbformat_minor": 5
}

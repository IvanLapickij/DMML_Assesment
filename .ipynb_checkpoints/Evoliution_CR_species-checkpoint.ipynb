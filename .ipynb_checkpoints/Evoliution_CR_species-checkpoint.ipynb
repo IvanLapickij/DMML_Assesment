{
 "cells": [
  {
   "cell_type": "markdown",
   "id": "a4721f93-8281-4416-9d5e-5fb9559a370e",
   "metadata": {},
   "source": [
    "## Decision Tree for iris data set"
   ]
  },
  {
   "cell_type": "code",
   "execution_count": 1,
   "id": "7e84e046-bfcd-4d54-b283-2548cebc5414",
   "metadata": {},
   "outputs": [],
   "source": [
    "from sklearn.tree import DecisionTreeClassifier\n",
    "from sklearn.model_selection import train_test_split\n",
    "from sklearn.metrics import confusion_matrix\n",
    "from sklearn.metrics import accuracy_score\n",
    "import pandas as pd\n",
    "from pandas.plotting import scatter_matrix\n",
    "import numpy as np\n",
    "\n",
    "from sklearn.tree import export_graphviz\n",
    "from io import StringIO\n",
    "from IPython.display import Image\n",
    "import pydotplus\n",
    "import matplotlib.pyplot as plt"
   ]
  },
  {
   "cell_type": "code",
   "execution_count": null,
   "id": "481a3bfd-6d87-49ed-a26d-ac109ed85710",
   "metadata": {},
   "outputs": [],
   "source": [
    "df = pd.read_csv('data/Evolution_DataSets.csv')\n",
    "# select only needed columns\n",
    "selected_features = ['Cranial_Capacity', 'Height', 'Time','Species']\n",
    "df = df[selected_features]\n",
    "df.head()"
   ]
  },
  {
   "cell_type": "markdown",
   "id": "ed9b078c-d564-43b7-9ee1-303fc8e8cc13",
   "metadata": {},
   "source": [
    "#### Explore the Data"
   ]
  },
  {
   "cell_type": "code",
   "execution_count": null,
   "id": "97e438e8-6936-4096-9e8a-ce4ffdd9fe0f",
   "metadata": {},
   "outputs": [],
   "source": [
    "print(df.shape)"
   ]
  },
  {
   "cell_type": "code",
   "execution_count": null,
   "id": "5819e019-cc3c-4ab7-80d5-19db6991c79d",
   "metadata": {},
   "outputs": [],
   "source": [
    "df.Species.value_counts()"
   ]
  },
  {
   "cell_type": "code",
   "execution_count": null,
   "id": "71471ef0-c108-4f6a-8008-d24f529bb8a6",
   "metadata": {},
   "outputs": [],
   "source": [
    "df.describe()"
   ]
  },
  {
   "cell_type": "markdown",
   "id": "d866c85e-5aac-40f7-87ba-151a29f8f877",
   "metadata": {},
   "source": [
    "**count says no missing numerical data.**"
   ]
  },
  {
   "cell_type": "code",
   "execution_count": null,
   "id": "ea926f70-5e0f-4a8b-bd29-ded3e583bc46",
   "metadata": {},
   "outputs": [],
   "source": [
    "scatter_matrix(df)\n",
    "plt.plot()"
   ]
  },
  {
   "cell_type": "markdown",
   "id": "0750f903-e14d-45c7-b1c5-aaa50fc18542",
   "metadata": {},
   "source": [
    "**groupings correspond to different species hopefully. Looks as if one species is easy to seperate. Separating the other two might be harder. petal_length or petal_width look to be most useful features.**"
   ]
  },
  {
   "cell_type": "code",
   "execution_count": null,
   "id": "e3b74a5a-e7e8-40e8-978b-af62cfd65f8d",
   "metadata": {},
   "outputs": [],
   "source": [
    "# sepal_lengths for setosa\n",
    "# d[:,0] == \"Homo Sapiens\" is a row selector and selects all setosa rows.\n",
    "d = np.array(df)\n",
    "print(d[d[:,0] == 'Homo Sapiens', 0])"
   ]
  },
  {
   "cell_type": "code",
   "execution_count": null,
   "id": "74f7feb1-c16d-4011-9565-96d9d3c0f598",
   "metadata": {},
   "outputs": [],
   "source": [
    "# sepal_length and sepal_width for each species?\n",
    "d = np.array(df)\n",
    "# d = df.to_numpy()\n",
    "plt.scatter(\n",
    " d[d[:,3] == 'hominino Orrorin tugenencin', 2], d[d[:,3] == 'hominino Orrorin tugenencin',0],\n",
    " c='lightblue', marker='v', edgecolor='black',\n",
    " label='hominino Orrorin tugenencin'\n",
    ")\n",
    "plt.scatter(\n",
    " d[d[:,3] == 'hominino Orrorin tugenencin', 2], d[d[:,3] == 'hominino Orrorin tugenencin', 0],\n",
    " c='lightgreen', marker='s', edgecolor='black',\n",
    " label='hominino Orrorin tugenencin'\n",
    ")\n",
    "plt.scatter(\n",
    " d[d[:,3] == 'hominino Ardipithecus ramidus / kabadda', 2], d[d[:,3] == 'hominino Ardipithecus ramidus / kabadda', 0],\n",
    " c='lightgreen', marker='s', edgecolor='black',\n",
    " label='hominino Ardipithecus ramidus / kabadda'\n",
    ")\n",
    "plt.scatter(\n",
    " d[d[:,3] == 'Paranthropus Robustus', 2], d[d[:,3] == 'Paranthropus Robustus', 0],\n",
    " c='lightgreen', marker='s', edgecolor='black',\n",
    " label='Paranthropus Robustus'\n",
    ")\n",
    "plt.scatter(\n",
    " d[d[:,3] == 'Australopithecus Garhi', 2], d[d[:,3] == 'Australopithecus Garhi', 0],\n",
    " c='lightgreen', marker='s', edgecolor='black',\n",
    " label='Australopithecus Garhi'\n",
    ")\n",
    "plt.scatter(\n",
    " d[d[:,3] == 'Australopithecus Bahrelghazali', 2], d[d[:,3] == 'Australopithecus Bahrelghazali', 0],\n",
    " c='lightgreen', marker='s', edgecolor='black',\n",
    " label='Australopithecus Bahrelghazali'\n",
    ")\n",
    "plt.scatter(\n",
    " d[d[:,3] == 'Homo Georgicus', 2], d[d[:,3] == 'Homo Georgicus', 0],\n",
    " c='lightgreen', marker='s', edgecolor='black',\n",
    " label='Homo Georgicus'\n",
    ")\n",
    "plt.scatter(\n",
    " d[d[:,3] == 'Australopithecus Sediba', 2], d[d[:,3] == 'Australopithecus Sediba', 0],\n",
    " c='lightgreen', marker='s', edgecolor='black',\n",
    " label='Australopithecus Sediba'\n",
    ")\n",
    "plt.scatter(\n",
    " d[d[:,3] == 'Homo Ergaster', 2], d[d[:,3] == 'Homo Ergaster', 0],\n",
    " c='lightgreen', marker='s', edgecolor='black',\n",
    " label='Homo Ergaster'\n",
    ")\n",
    "plt.scatter(\n",
    " d[d[:,3] == 'Homo Antecesor', 2], d[d[:,3] == 'Homo Antecesor', 0],\n",
    " c='lightgreen', marker='s', edgecolor='black',\n",
    " label='Homo Antecesor'\n",
    ")\n",
    "plt.scatter(\n",
    " d[d[:,3] == 'Homo Sapiens', 2], d[d[:,3] == 'Homo Sapiens', 0],\n",
    " c='lightgreen', marker='s', edgecolor='black',\n",
    " label='Homo Sapiens'\n",
    ")\n",
    "plt.scatter(\n",
    " d[d[:,3] == 'Homo Habilis', 2], d[d[:,3] == 'Homo Habilis', 0],\n",
    " c='lightgreen', marker='s', edgecolor='black',\n",
    " label='Homo Habilis'\n",
    ")\n",
    "plt.scatter(\n",
    " d[d[:,3] == 'Homo Rudolfensis', 2], d[d[:,3] == 'Homo Rudolfensis', 0],\n",
    " c='lightgreen', marker='s', edgecolor='black',\n",
    " label='Homo Rudolfensis'\n",
    ")\n",
    "plt.scatter(\n",
    " d[d[:,3] == 'Paranthropus Boisei', 2], d[d[:,3] == 'Paranthropus Boisei', 0],\n",
    " c='lightgreen', marker='s', edgecolor='black',\n",
    " label='Paranthropus Boisei'\n",
    ")\n",
    "plt.scatter(\n",
    " d[d[:,3] == 'Homo Floresiensis', 2], d[d[:,3] == 'Homo Floresiensis', 0],\n",
    " c='lightgreen', marker='s', edgecolor='black',\n",
    " label='Homo Floresiensis'\n",
    ")\n",
    "plt.scatter(\n",
    " d[d[:,3] == 'Homo Naledi', 2], d[d[:,3] == 'Homo Naledi', 0],\n",
    " c='lightgreen', marker='s', edgecolor='black',\n",
    " label='Homo Naledi'\n",
    ")\n",
    "plt.scatter(\n",
    " d[d[:,3] == 'Homo Erectus', 2], d[d[:,3] == 'Homo Erectus', 0],\n",
    " c='lightgreen', marker='s', edgecolor='black',\n",
    " label='Homo Erectus'\n",
    ")\n",
    "plt.scatter(\n",
    " d[d[:,3] == 'Paranthropus Aethiopicus', 2], d[d[:,3] == 'Paranthropus Aethiopicus', 0],\n",
    " c='lightgreen', marker='s', edgecolor='black',\n",
    " label='Paranthropus Aethiopicus'\n",
    ")\n",
    "plt.scatter(\n",
    " d[d[:,3] == 'Homo Neanderthalensis\\n', 2], d[d[:,3] == 'Homo Neanderthalensis\\n', 0],\n",
    " c='lightgreen', marker='s', edgecolor='black',\n",
    " label='Homo Neanderthalensis\\n'\n",
    ")\n",
    "plt.scatter(\n",
    " d[d[:,3] == 'hominino Sahelanthropus tchadensis', 2], d[d[:,3] == 'hominino Sahelanthropus tchadensis', 0],\n",
    " c='lightgreen', marker='s', edgecolor='black',\n",
    " label='hominino Sahelanthropus tchadensis'\n",
    ")\n",
    "plt.scatter(\n",
    " d[d[:,3] == 'Homo Rodhesiensis', 2], d[d[:,3] == 'Homo Rodhesiensis', 0],\n",
    " c='lightgreen', marker='s', edgecolor='black',\n",
    " label='Homo Rodhesiensis'\n",
    ")\n",
    "plt.scatter(\n",
    " d[d[:,3] == 'Australopithecus Africanus', 2], d[d[:,3] == 'Australopithecus Africanus', 0],\n",
    " c='lightgreen', marker='s', edgecolor='black',\n",
    " label='Australopithecus Africanus'\n",
    ")\n",
    "plt.scatter(\n",
    " d[d[:,3] == 'Australopithecus Anamensis', 2], d[d[:,3] == 'Australopithecus Anamensis', 0],\n",
    " c='lightgreen', marker='s', edgecolor='black',\n",
    " label='Australopithecus Anamensis'\n",
    ")\n",
    "plt.scatter(\n",
    " d[d[:,3] == 'Australopithecus Afarensis', 2], d[d[:,3] == 'Australopithecus Afarensis', 0],\n",
    " c='lightgreen', marker='s', edgecolor='black',\n",
    " label='Australopithecus Afarensis'\n",
    ")\n",
    "plt.scatter(\n",
    " d[d[:,3] == 'Homo Heidelbergensis', 2], d[d[:,3] == 'Homo Heidelbergensis', 0],\n",
    " c='lightgreen', marker='s', edgecolor='black',\n",
    " label='Homo Heidelbergensis'\n",
    ")\n",
    "plt.xlabel('Time')\n",
    "plt.ylabel('Cranial_Capacity')\n",
    "plt.legend(loc=\"upper left\")\n",
    "plt.show()"
   ]
  },
  {
   "cell_type": "code",
   "execution_count": null,
   "id": "7c354376-247d-4c1f-b43d-9870c37f6cf0",
   "metadata": {},
   "outputs": [],
   "source": [
    "# sepal_length and sepal_width for each species?\n",
    "d = np.array(df)\n",
    "# d = df.to_numpy()\n",
    "plt.scatter(\n",
    " d[d[:,3] == 'hominino Orrorin tugenencin', 1], d[d[:,3] == 'hominino Orrorin tugenencin',0],\n",
    " c='lightblue', marker='v', edgecolor='black',\n",
    " label='hominino Orrorin tugenencin'\n",
    ")\n",
    "plt.scatter(\n",
    " d[d[:,3] == 'hominino Orrorin tugenencin', 1], d[d[:,3] == 'hominino Orrorin tugenencin', 0],\n",
    " c='lightgreen', marker='s', edgecolor='black',\n",
    " label='hominino Orrorin tugenencin'\n",
    ")\n",
    "plt.scatter(\n",
    " d[d[:,3] == 'hominino Ardipithecus ramidus / kabadda', 1], d[d[:,3] == 'hominino Ardipithecus ramidus / kabadda', 0],\n",
    " c='lightgreen', marker='s', edgecolor='black',\n",
    " label='hominino Ardipithecus ramidus / kabadda'\n",
    ")\n",
    "plt.scatter(\n",
    " d[d[:,3] == 'Paranthropus Robustus', 1], d[d[:,3] == 'Paranthropus Robustus', 0],\n",
    " c='lightgreen', marker='s', edgecolor='black',\n",
    " label='Paranthropus Robustus'\n",
    ")\n",
    "plt.scatter(\n",
    " d[d[:,3] == 'Australopithecus Garhi', 1], d[d[:,3] == 'Australopithecus Garhi', 0],\n",
    " c='lightgreen', marker='s', edgecolor='black',\n",
    " label='Australopithecus Garhi'\n",
    ")\n",
    "plt.scatter(\n",
    " d[d[:,3] == 'Australopithecus Bahrelghazali', 1], d[d[:,3] == 'Australopithecus Bahrelghazali', 0],\n",
    " c='lightgreen', marker='s', edgecolor='black',\n",
    " label='Australopithecus Bahrelghazali'\n",
    ")\n",
    "plt.scatter(\n",
    " d[d[:,3] == 'Homo Georgicus', 1], d[d[:,3] == 'Homo Georgicus', 0],\n",
    " c='lightgreen', marker='s', edgecolor='black',\n",
    " label='Homo Georgicus'\n",
    ")\n",
    "plt.scatter(\n",
    " d[d[:,3] == 'Australopithecus Sediba', 1], d[d[:,3] == 'Australopithecus Sediba', 0],\n",
    " c='lightgreen', marker='s', edgecolor='black',\n",
    " label='Australopithecus Sediba'\n",
    ")\n",
    "plt.scatter(\n",
    " d[d[:,3] == 'Homo Ergaster', 1], d[d[:,3] == 'Homo Ergaster', 0],\n",
    " c='lightgreen', marker='s', edgecolor='black',\n",
    " label='Homo Ergaster'\n",
    ")\n",
    "plt.scatter(\n",
    " d[d[:,3] == 'Homo Antecesor', 1], d[d[:,3] == 'Homo Antecesor', 0],\n",
    " c='lightgreen', marker='s', edgecolor='black',\n",
    " label='Homo Antecesor'\n",
    ")\n",
    "plt.scatter(\n",
    " d[d[:,3] == 'Homo Sapiens', 1], d[d[:,3] == 'Homo Sapiens', 0],\n",
    " c='lightgreen', marker='s', edgecolor='black',\n",
    " label='Homo Sapiens'\n",
    ")\n",
    "plt.scatter(\n",
    " d[d[:,3] == 'Homo Habilis', 1], d[d[:,3] == 'Homo Habilis', 0],\n",
    " c='lightgreen', marker='s', edgecolor='black',\n",
    " label='Homo Habilis'\n",
    ")\n",
    "plt.scatter(\n",
    " d[d[:,3] == 'Homo Rudolfensis', 1], d[d[:,3] == 'Homo Rudolfensis', 0],\n",
    " c='lightgreen', marker='s', edgecolor='black',\n",
    " label='Homo Rudolfensis'\n",
    ")\n",
    "plt.scatter(\n",
    " d[d[:,3] == 'Paranthropus Boisei', 1], d[d[:,3] == 'Paranthropus Boisei', 0],\n",
    " c='lightgreen', marker='s', edgecolor='black',\n",
    " label='Paranthropus Boisei'\n",
    ")\n",
    "plt.scatter(\n",
    " d[d[:,3] == 'Homo Floresiensis', 1], d[d[:,3] == 'Homo Floresiensis', 0],\n",
    " c='lightgreen', marker='s', edgecolor='black',\n",
    " label='Homo Floresiensis'\n",
    ")\n",
    "plt.scatter(\n",
    " d[d[:,3] == 'Homo Naledi', 1], d[d[:,3] == 'Homo Naledi', 0],\n",
    " c='lightgreen', marker='s', edgecolor='black',\n",
    " label='Homo Naledi'\n",
    ")\n",
    "plt.scatter(\n",
    " d[d[:,3] == 'Homo Erectus', 1], d[d[:,3] == 'Homo Erectus', 0],\n",
    " c='lightgreen', marker='s', edgecolor='black',\n",
    " label='Homo Erectus'\n",
    ")\n",
    "plt.scatter(\n",
    " d[d[:,3] == 'Paranthropus Aethiopicus', 1], d[d[:,3] == 'Paranthropus Aethiopicus', 0],\n",
    " c='lightgreen', marker='s', edgecolor='black',\n",
    " label='Paranthropus Aethiopicus'\n",
    ")\n",
    "plt.scatter(\n",
    " d[d[:,3] == 'Homo Neanderthalensis\\n', 1], d[d[:,3] == 'Homo Neanderthalensis\\n', 0],\n",
    " c='lightgreen', marker='s', edgecolor='black',\n",
    " label='Homo Neanderthalensis\\n'\n",
    ")\n",
    "plt.scatter(\n",
    " d[d[:,3] == 'hominino Sahelanthropus tchadensis', 1], d[d[:,3] == 'hominino Sahelanthropus tchadensis', 0],\n",
    " c='lightgreen', marker='s', edgecolor='black',\n",
    " label='hominino Sahelanthropus tchadensis'\n",
    ")\n",
    "plt.scatter(\n",
    " d[d[:,3] == 'Homo Rodhesiensis', 1], d[d[:,3] == 'Homo Rodhesiensis', 0],\n",
    " c='lightgreen', marker='s', edgecolor='black',\n",
    " label='Homo Rodhesiensis'\n",
    ")\n",
    "plt.scatter(\n",
    " d[d[:,3] == 'Australopithecus Africanus', 1], d[d[:,3] == 'Australopithecus Africanus', 0],\n",
    " c='lightgreen', marker='s', edgecolor='black',\n",
    " label='Australopithecus Africanus'\n",
    ")\n",
    "plt.scatter(\n",
    " d[d[:,3] == 'Australopithecus Anamensis', 1], d[d[:,3] == 'Australopithecus Anamensis', 0],\n",
    " c='lightgreen', marker='s', edgecolor='black',\n",
    " label='Australopithecus Anamensis'\n",
    ")\n",
    "plt.scatter(\n",
    " d[d[:,3] == 'Australopithecus Afarensis', 1], d[d[:,3] == 'Australopithecus Afarensis', 0],\n",
    " c='lightgreen', marker='s', edgecolor='black',\n",
    " label='Australopithecus Afarensis'\n",
    ")\n",
    "plt.scatter(\n",
    " d[d[:,3] == 'Homo Heidelbergensis', 1], d[d[:,3] == 'Homo Heidelbergensis', 0],\n",
    " c='lightgreen', marker='s', edgecolor='black',\n",
    " label='Homo Heidelbergensis'\n",
    ")\n",
    "plt.xlabel('Time')\n",
    "plt.ylabel('Height')\n",
    "plt.legend(loc=\"upper left\")\n",
    "plt.show()"
   ]
  },
  {
   "cell_type": "markdown",
   "id": "6f31bf51-a84b-4ac1-a99e-e7f6ae500846",
   "metadata": {},
   "source": [
    "**this shows that petal_length and petal_width can separate the classes (sspecies) pretty well. Expect a very good model** "
   ]
  },
  {
   "cell_type": "markdown",
   "id": "3c63264f-b43a-4e1c-826c-ad8bca30a716",
   "metadata": {},
   "source": [
    "#### Build the Model"
   ]
  },
  {
   "cell_type": "code",
   "execution_count": null,
   "id": "b01b7e10-28ad-4c9d-9718-2ee35adf8c38",
   "metadata": {},
   "outputs": [],
   "source": [
    "# X = df[[\"sepal_length\",\"sepal_width\",\"petal_length\",\"petal_width\"]]\n",
    "X = df.drop(columns='Species')\n",
    "y = df.Species"
   ]
  },
  {
   "cell_type": "code",
   "execution_count": null,
   "id": "49914b8e-df03-4fc4-b88b-c8a0bd64f6de",
   "metadata": {},
   "outputs": [],
   "source": [
    "# 125 training and 25 test\n",
    "# stratify ensures the same proportions of species in traing and test data.\n",
    "X_train, X_test, y_train, y_test = train_test_split(X, y, test_size=25, random_state=1, stratify=y)"
   ]
  },
  {
   "cell_type": "code",
   "execution_count": null,
   "id": "942e7922-a418-4d0f-ab50-e1f5f52719e7",
   "metadata": {},
   "outputs": [],
   "source": [
    "# model = DecisionTreeClassifier(max_depth=2)\n",
    "model = DecisionTreeClassifier()\n",
    "model.fit(X_train,y_train)\n",
    "print(model.get_depth())"
   ]
  },
  {
   "cell_type": "markdown",
   "id": "45355d44-0c3e-4832-ac85-bc4bdb9c6c75",
   "metadata": {},
   "source": [
    "#### Evaluation"
   ]
  },
  {
   "cell_type": "code",
   "execution_count": null,
   "id": "18a91d31-3e23-4470-bd3d-cdc50ef1b002",
   "metadata": {},
   "outputs": [],
   "source": [
    "print(\"[training accuracy: \", model.score(X_train, y_train), \"]\")\n",
    "print(\"test accuracy: \", model.score(X_test, y_test))"
   ]
  },
  {
   "cell_type": "markdown",
   "id": "b476aec5-3fd1-4872-a103-79a4fde2fb34",
   "metadata": {},
   "source": [
    "**testing accuracy is the important one**"
   ]
  },
  {
   "cell_type": "code",
   "execution_count": null,
   "id": "1cabbe3f-c624-4e08-975d-d1a1dc90262f",
   "metadata": {},
   "outputs": [],
   "source": [
    "#Predict the response for test dataset\n",
    "y_hat = model.predict(X_test)\n",
    "print(\"test accuracy:\", accuracy_score(y_test, y_hat))"
   ]
  },
  {
   "cell_type": "code",
   "execution_count": null,
   "id": "6e5b8ce3-2233-449b-94c4-02dbf54da681",
   "metadata": {},
   "outputs": [],
   "source": [
    "# confusion matrix\n",
    "cm = confusion_matrix(y_test, y_hat)\n",
    "print(cm)"
   ]
  },
  {
   "cell_type": "code",
   "execution_count": null,
   "id": "319eba6b-a083-4443-8faa-61805b12af23",
   "metadata": {},
   "outputs": [],
   "source": [
    "#### Draw the tree"
   ]
  },
  {
   "cell_type": "code",
   "execution_count": null,
   "id": "844b5e64-eb40-4876-aec6-b2446884bae9",
   "metadata": {},
   "outputs": [],
   "source": [
    "feature_names = [\"Cranial_Capacity\", \"Height\", \"Time\"]\n",
    "target_names = [\"hominino Orrorin tugenencin\", \"hominino Ardipithecus ramidus / kabadda\", \"Paranthropus Robustus\", \"Australopithecus Garhi\", \n",
    "\"Australopithecus Bahrelghazali\", \"Homo Georgicus\", \"Australopithecus Sediba\", \"Homo Ergaster\", \"Homo Antecesor\", \"Homo Sapiens\", \n",
    "\"Homo Habilis\", \"Homo Rudolfensis\", \"Paranthropus Boisei\", \"Homo Floresiensis\", \"Homo Naledi\", \"Homo Erectus\", \n",
    "\"Paranthropus Aethiopicus\", \"Homo Neanderthalensis\", \"hominino Sahelanthropus tchadensis\", \"Homo Rodhesiensis\", \n",
    "\"Australopithecus Africanus\", \"Australopithecus Anamensis\", \"Australopithecus Afarensis\", \"Homo Heidelbergensis\"]\n",
    "\n",
    "dot_data = StringIO()\n",
    "export_graphviz(model, out_file=dot_data,\n",
    " filled=True, rounded=True,\n",
    " special_characters=True, feature_names = feature_names,\n",
    " class_names = target_names)\n",
    "graph = pydotplus.graph_from_dot_data(dot_data.getvalue())\n",
    "# graph.write_png('plots/evo.png')\n",
    "Image(graph.create_png())"
   ]
  },
  {
   "cell_type": "code",
   "execution_count": null,
   "id": "1981ff38-f499-4acf-aae2-f72e772fc573",
   "metadata": {},
   "outputs": [],
   "source": []
  }
 ],
 "metadata": {
  "kernelspec": {
   "display_name": "Python 3 (ipykernel)",
   "language": "python",
   "name": "python3"
  },
  "language_info": {
   "codemirror_mode": {
    "name": "ipython",
    "version": 3
   },
   "file_extension": ".py",
   "mimetype": "text/x-python",
   "name": "python",
   "nbconvert_exporter": "python",
   "pygments_lexer": "ipython3",
   "version": "3.8.19"
  }
 },
 "nbformat": 4,
 "nbformat_minor": 5
}
